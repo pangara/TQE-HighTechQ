{
 "cells": [
  {
   "cell_type": "markdown",
   "metadata": {},
   "source": [
    "# Introduction to Python, Jupyter Notebooks and Qiskit\n",
    "Python is a programming language that we will be using in this workshop. Qiskit is a set of tools built for us to use with Python, so that we can submit experiments to a quantum computer. You are reading this text on a Jupyter notebook. Jupyer notebooks are more than just normal notebooks. They are interactive. You can write code in them, you can insert images, and you can have interactive visualizations. It turns out that our quantum computing experiments require, code and lots of visualizations! \n",
    "\n",
    "We'll now proceed to create our first notebook. Follow along."
   ]
  }
 ],
 "metadata": {
  "kernelspec": {
   "display_name": "quantum",
   "language": "python",
   "name": "quantum"
  },
  "language_info": {
   "codemirror_mode": {
    "name": "ipython",
    "version": 3
   },
   "file_extension": ".py",
   "mimetype": "text/x-python",
   "name": "python",
   "nbconvert_exporter": "python",
   "pygments_lexer": "ipython3",
   "version": "3.7.4"
  }
 },
 "nbformat": 4,
 "nbformat_minor": 2
}
